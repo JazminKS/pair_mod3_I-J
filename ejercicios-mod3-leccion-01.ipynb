{
 "cells": [
  {
   "cell_type": "code",
   "execution_count": 3,
   "metadata": {},
   "outputs": [
    {
     "name": "stdout",
     "output_type": "stream",
     "text": [
      "Requirement already satisfied: numpy in c:\\users\\invitadolaptop\\appdata\\local\\packages\\pythonsoftwarefoundation.python.3.11_qbz5n2kfra8p0\\localcache\\local-packages\\python311\\site-packages (2.2.3)"
     ]
    },
    {
     "name": "stderr",
     "output_type": "stream",
     "text": [
      "\n",
      "[notice] A new release of pip is available: 24.0 -> 25.0.1\n",
      "[notice] To update, run: C:\\Users\\InvitadoLaptop\\AppData\\Local\\Microsoft\\WindowsApps\\PythonSoftwareFoundation.Python.3.11_qbz5n2kfra8p0\\python.exe -m pip install --upgrade pip\n"
     ]
    },
    {
     "name": "stdout",
     "output_type": "stream",
     "text": [
      "\n"
     ]
    }
   ],
   "source": [
    "!pip install numpy"
   ]
  },
  {
   "cell_type": "code",
   "execution_count": 4,
   "metadata": {},
   "outputs": [],
   "source": [
    "import numpy as np"
   ]
  },
  {
   "cell_type": "markdown",
   "metadata": {},
   "source": [
    "## Creación y Indexación:"
   ]
  },
  {
   "cell_type": "markdown",
   "metadata": {},
   "source": [
    "1. Crea un array 1D con 50 valores aleatorio del 10 al 99. Accede a los elementos en las posiciones múltiplos de 5."
   ]
  },
  {
   "cell_type": "code",
   "execution_count": 5,
   "metadata": {},
   "outputs": [
    {
     "data": {
      "text/plain": [
       "array([17, 40, 42, 91, 97, 16, 40, 26, 15, 65, 95, 22, 50, 95, 27, 67, 62,\n",
       "       46, 77, 12, 70, 68, 51, 41, 91, 69, 50, 87, 87, 21, 68, 73, 27, 37,\n",
       "       51, 38, 57, 56, 46, 36, 72, 13, 23, 82, 90, 93, 26, 37, 76, 23],\n",
       "      dtype=int32)"
      ]
     },
     "execution_count": 5,
     "metadata": {},
     "output_type": "execute_result"
    }
   ],
   "source": [
    "arr_1 = np.random.randint(10,99, (50))\n",
    "arr_1"
   ]
  },
  {
   "cell_type": "code",
   "execution_count": 6,
   "metadata": {},
   "outputs": [
    {
     "data": {
      "text/plain": [
       "50"
      ]
     },
     "execution_count": 6,
     "metadata": {},
     "output_type": "execute_result"
    }
   ],
   "source": [
    "arr_1.size"
   ]
  },
  {
   "cell_type": "code",
   "execution_count": 7,
   "metadata": {},
   "outputs": [
    {
     "data": {
      "text/plain": [
       "array([False,  True, False, False, False, False,  True, False,  True,\n",
       "        True,  True, False,  True,  True, False, False, False, False,\n",
       "       False, False,  True, False, False, False, False, False,  True,\n",
       "       False, False, False, False, False, False, False, False, False,\n",
       "       False, False, False, False, False, False, False, False,  True,\n",
       "       False, False, False, False, False])"
      ]
     },
     "execution_count": 7,
     "metadata": {},
     "output_type": "execute_result"
    }
   ],
   "source": [
    "arr_1 % 5 == 0"
   ]
  },
  {
   "cell_type": "code",
   "execution_count": 8,
   "metadata": {},
   "outputs": [
    {
     "data": {
      "text/plain": [
       "array([40, 40, 15, 65, 95, 50, 95, 70, 50, 90], dtype=int32)"
      ]
     },
     "execution_count": 8,
     "metadata": {},
     "output_type": "execute_result"
    }
   ],
   "source": [
    "arr_1[arr_1 % 5 == 0]"
   ]
  },
  {
   "cell_type": "markdown",
   "metadata": {},
   "source": [
    "2. Crea un array 1D con 30 valores aleatorios del 1 al 20 (ambos incluidos). Utiliza indexación para obtener los elementos en las posiciones impares."
   ]
  },
  {
   "cell_type": "code",
   "execution_count": 9,
   "metadata": {},
   "outputs": [
    {
     "data": {
      "text/plain": [
       "array([ 8, 13,  6,  7, 13, 12, 10, 13, 20,  8,  3,  2,  1,  4,  3, 14, 17,\n",
       "        3,  8, 14, 17, 19, 14, 18, 10,  4,  4, 18,  2,  9], dtype=int32)"
      ]
     },
     "execution_count": 9,
     "metadata": {},
     "output_type": "execute_result"
    }
   ],
   "source": [
    "arr_2 = np.random.randint(1,21, (30))\n",
    "arr_2"
   ]
  },
  {
   "cell_type": "code",
   "execution_count": 10,
   "metadata": {},
   "outputs": [
    {
     "data": {
      "text/plain": [
       "array([13,  7, 12, 13,  8,  2,  4, 14,  3, 14, 19, 18,  4, 18,  9],\n",
       "      dtype=int32)"
      ]
     },
     "execution_count": 10,
     "metadata": {},
     "output_type": "execute_result"
    }
   ],
   "source": [
    "arr_2[1::2]"
   ]
  },
  {
   "cell_type": "markdown",
   "metadata": {},
   "source": [
    "3. Crea un array 2D de forma (4, 6) con números aleatorios decimales (no deben estar comprendidos solo entre 0 y 1). Accede a la última fila de la matriz. Los decimales deben estar redondeados a 2 decimales."
   ]
  },
  {
   "cell_type": "code",
   "execution_count": 11,
   "metadata": {},
   "outputs": [
    {
     "data": {
      "text/plain": [
       "array([[10.29349037, 10.80085597, 10.97443576, 10.41199241, 10.80737828,\n",
       "        10.19355753],\n",
       "       [10.7277553 , 10.29814462, 10.4562218 , 10.19958382, 10.82367238,\n",
       "        10.77749193],\n",
       "       [10.50894055, 10.34942722, 10.40055679, 10.83623117, 10.46186748,\n",
       "        10.15827606],\n",
       "       [10.19562654, 10.24647202, 10.04992829, 10.59974395, 10.26344464,\n",
       "        10.33591825]])"
      ]
     },
     "execution_count": 11,
     "metadata": {},
     "output_type": "execute_result"
    }
   ],
   "source": [
    "arr_3 = np.random.rand(4,6)+10\n",
    "arr_3"
   ]
  },
  {
   "cell_type": "code",
   "execution_count": 12,
   "metadata": {},
   "outputs": [
    {
     "data": {
      "text/plain": [
       "array([[10.29, 10.8 , 10.97, 10.41, 10.81, 10.19],\n",
       "       [10.73, 10.3 , 10.46, 10.2 , 10.82, 10.78],\n",
       "       [10.51, 10.35, 10.4 , 10.84, 10.46, 10.16],\n",
       "       [10.2 , 10.25, 10.05, 10.6 , 10.26, 10.34]])"
      ]
     },
     "execution_count": 12,
     "metadata": {},
     "output_type": "execute_result"
    }
   ],
   "source": [
    "np.round(arr_3, 2)"
   ]
  },
  {
   "cell_type": "markdown",
   "metadata": {},
   "source": [
    "# Funciones Aritméticas y Estadísticas:"
   ]
  },
  {
   "cell_type": "markdown",
   "metadata": {},
   "source": [
    "1. Crea un array de tres 3D con elementos entre el 0 y 1 de forma (2, 3, 5) cuyos valores solo tengan 1 decimal."
   ]
  },
  {
   "cell_type": "code",
   "execution_count": 13,
   "metadata": {},
   "outputs": [
    {
     "data": {
      "text/plain": [
       "array([[[0.09969975, 0.68238541, 0.8540227 , 0.84611394, 0.65843928],\n",
       "        [0.32648865, 0.48847655, 0.73849479, 0.77492066, 0.98139015],\n",
       "        [0.86325714, 0.03906446, 0.33051593, 0.83896188, 0.67498549]],\n",
       "\n",
       "       [[0.1092756 , 0.08781604, 0.95413674, 0.87759189, 0.56824319],\n",
       "        [0.41298475, 0.66078607, 0.25656485, 0.77829399, 0.57274039],\n",
       "        [0.80627706, 0.57127858, 0.38868961, 0.58419937, 0.98763707]]])"
      ]
     },
     "execution_count": 13,
     "metadata": {},
     "output_type": "execute_result"
    }
   ],
   "source": [
    "arr_4 = np.random.rand(2,3,5)\n",
    "arr_4"
   ]
  },
  {
   "cell_type": "code",
   "execution_count": 14,
   "metadata": {},
   "outputs": [
    {
     "data": {
      "text/plain": [
       "array([[[0.1, 0.7, 0.9, 0.8, 0.7],\n",
       "        [0.3, 0.5, 0.7, 0.8, 1. ],\n",
       "        [0.9, 0. , 0.3, 0.8, 0.7]],\n",
       "\n",
       "       [[0.1, 0.1, 1. , 0.9, 0.6],\n",
       "        [0.4, 0.7, 0.3, 0.8, 0.6],\n",
       "        [0.8, 0.6, 0.4, 0.6, 1. ]]])"
      ]
     },
     "execution_count": 14,
     "metadata": {},
     "output_type": "execute_result"
    }
   ],
   "source": [
    "arr_4_2=np.round(arr_4, 1)\n",
    "\n",
    "arr_4_2"
   ]
  },
  {
   "cell_type": "markdown",
   "metadata": {},
   "source": [
    "2. Crea un array vacío con la misma forma y dimensiones que el array creado anteriormente. Vamos a reemplazar los valores de la matriz vacía que nos acabamos de crear pero basándonos en los valores del primer array bajo las siguientes condiciones:\n",
    "\n",
    "**Si el valor del array es igual que la media, se reemplaza por \"A\".\n",
    "\n",
    "**Si el valor del array es mayor que la media, se reemplaza por \"B\".\n",
    "\n",
    "**Si el valor del array es menor que la media, se reemplaza por \"C\".\n",
    "\n",
    "**Si el valor es igual que el máximo, se reemplaza por \"D\".\n",
    "\n",
    "**Si el valor es igual que el mínimo, se reemplaza por \"E\"."
   ]
  },
  {
   "cell_type": "code",
   "execution_count": null,
   "metadata": {},
   "outputs": [],
   "source": [
    "# a modo de ejemplo. Si tenemos el siguiente array\n",
    "[[[0.4, 0.7, 0.2, 0.9, 0.2],\n",
    "    [0.1, 0.9, 0.6, 0.1, 0.2],\n",
    "    [1. , 0.2, 0.1, 0.8, 0.3]],\n",
    "\n",
    "[[0. , 0.3, 0.4, 0.5, 0.1],\n",
    "    [0.5, 0.7, 0.9, 0. , 0.8],\n",
    "    [0.5, 0.3, 0.5, 0.8, 0.1]]])\n",
    "\n",
    "# sabiendo que la media es 0.4 y el máximo es 1.0 y el mínimo es 0.0\n",
    "\n",
    "# nuestro array vacío debería quedar como este: \n",
    "[[[\"A\", \"B\", \"C\", \"B\", \"C\"],\n",
    "    [\"C\", \"B\", \"B\", \"C\", \"C\"],\n",
    "    [\"D\" , \"C\", \"C\", \"B\", \"C\"]],\n",
    "\n",
    "[[\"E\" , \"C\", \"A\", \"B\", \"C\"],\n",
    "    [\"B\", \"B\",\"B\", \"E\" , \"B\"],\n",
    "    [\"B\", \"C\", \"B\", \"B\", \"C\"]]])"
   ]
  },
  {
   "cell_type": "code",
   "execution_count": 16,
   "metadata": {},
   "outputs": [
    {
     "data": {
      "text/plain": [
       "np.float64(0.6033333333333334)"
      ]
     },
     "execution_count": 16,
     "metadata": {},
     "output_type": "execute_result"
    }
   ],
   "source": [
    "media=np.mean(arr_4_2)\n",
    "media"
   ]
  },
  {
   "cell_type": "code",
   "execution_count": 17,
   "metadata": {},
   "outputs": [
    {
     "data": {
      "text/plain": [
       "np.float64(0.6)"
      ]
     },
     "execution_count": 17,
     "metadata": {},
     "output_type": "execute_result"
    }
   ],
   "source": [
    "media_2=np.round(media,1)\n",
    "media_2"
   ]
  },
  {
   "cell_type": "code",
   "execution_count": 18,
   "metadata": {},
   "outputs": [
    {
     "data": {
      "text/plain": [
       "array([[['', '', '', '', ''],\n",
       "        ['', '', '', '', ''],\n",
       "        ['', '', '', '', '']],\n",
       "\n",
       "       [['', '', '', '', ''],\n",
       "        ['', '', '', '', ''],\n",
       "        ['', '', '', '', '']]], dtype='<U1')"
      ]
     },
     "execution_count": 18,
     "metadata": {},
     "output_type": "execute_result"
    }
   ],
   "source": [
    "vacio=np.empty(arr_4_2.shape, dtype=str)\n",
    "vacio"
   ]
  },
  {
   "cell_type": "code",
   "execution_count": 19,
   "metadata": {},
   "outputs": [
    {
     "name": "stdout",
     "output_type": "stream",
     "text": [
      "[[['' '' '' '' '']\n",
      "  ['' '' '' '' '']\n",
      "  ['' '' '' '' '']]\n",
      "\n",
      " [['' '' '' '' 'A']\n",
      "  ['' '' '' '' 'A']\n",
      "  ['' 'A' '' 'A' '']]]\n"
     ]
    }
   ],
   "source": [
    "A=np.where(arr_4_2 == media_2, \"A\", vacio)\n",
    "\n",
    "print(A)"
   ]
  },
  {
   "cell_type": "code",
   "execution_count": 20,
   "metadata": {},
   "outputs": [
    {
     "name": "stdout",
     "output_type": "stream",
     "text": [
      "[[['' 'B' 'B' 'B' 'B']\n",
      "  ['' '' 'B' 'B' 'B']\n",
      "  ['B' '' '' 'B' 'B']]\n",
      "\n",
      " [['' '' 'B' 'B' '']\n",
      "  ['' 'B' '' 'B' '']\n",
      "  ['B' '' '' '' 'B']]]\n"
     ]
    }
   ],
   "source": [
    "B=np.where(arr_4_2 > media_2, \"B\" , vacio)\n",
    "print(B)"
   ]
  },
  {
   "cell_type": "code",
   "execution_count": 21,
   "metadata": {},
   "outputs": [
    {
     "name": "stdout",
     "output_type": "stream",
     "text": [
      "[[['C' '' '' '' '']\n",
      "  ['C' 'C' '' '' '']\n",
      "  ['' 'C' 'C' '' '']]\n",
      "\n",
      " [['C' 'C' '' '' '']\n",
      "  ['C' '' 'C' '' '']\n",
      "  ['' '' 'C' '' '']]]\n"
     ]
    }
   ],
   "source": [
    "C=np.where(arr_4_2 < media_2, \"C\" , vacio)\n",
    "print(C)"
   ]
  },
  {
   "cell_type": "code",
   "execution_count": 22,
   "metadata": {},
   "outputs": [
    {
     "data": {
      "text/plain": [
       "np.float64(1.0)"
      ]
     },
     "execution_count": 22,
     "metadata": {},
     "output_type": "execute_result"
    }
   ],
   "source": [
    "max=np.max(arr_4_2)\n",
    "max"
   ]
  },
  {
   "cell_type": "code",
   "execution_count": 23,
   "metadata": {},
   "outputs": [
    {
     "name": "stdout",
     "output_type": "stream",
     "text": [
      "[[['' '' '' '' '']\n",
      "  ['' '' '' '' 'D']\n",
      "  ['' '' '' '' '']]\n",
      "\n",
      " [['' '' 'D' '' '']\n",
      "  ['' '' '' '' '']\n",
      "  ['' '' '' '' 'D']]]\n"
     ]
    }
   ],
   "source": [
    "D=np.where(arr_4_2 == max, \"D\" , vacio)\n",
    "print(D)"
   ]
  },
  {
   "cell_type": "code",
   "execution_count": 24,
   "metadata": {},
   "outputs": [
    {
     "data": {
      "text/plain": [
       "np.float64(0.0)"
      ]
     },
     "execution_count": 24,
     "metadata": {},
     "output_type": "execute_result"
    }
   ],
   "source": [
    "min=np.min(arr_4_2)\n",
    "min"
   ]
  },
  {
   "cell_type": "code",
   "execution_count": 25,
   "metadata": {},
   "outputs": [
    {
     "name": "stdout",
     "output_type": "stream",
     "text": [
      "[[['' '' '' '' '']\n",
      "  ['' '' '' '' '']\n",
      "  ['' 'E' '' '' '']]\n",
      "\n",
      " [['' '' '' '' '']\n",
      "  ['' '' '' '' '']\n",
      "  ['' '' '' '' '']]]\n"
     ]
    }
   ],
   "source": [
    "E=np.where(arr_4_2 == min, \"E\" , vacio)\n",
    "print(E)"
   ]
  },
  {
   "cell_type": "code",
   "execution_count": 26,
   "metadata": {},
   "outputs": [
    {
     "data": {
      "text/plain": [
       "array([[['C', 'B', 'B', 'B', 'B'],\n",
       "        ['C', 'C', 'B', 'B', 'BD'],\n",
       "        ['B', 'CE', 'C', 'B', 'B']],\n",
       "\n",
       "       [['C', 'C', 'BD', 'B', 'A'],\n",
       "        ['C', 'B', 'C', 'B', 'A'],\n",
       "        ['B', 'A', 'C', 'A', 'BD']]], dtype='<U5')"
      ]
     },
     "execution_count": 26,
     "metadata": {},
     "output_type": "execute_result"
    }
   ],
   "source": [
    "TOTAL=A+B+C+D+E\n",
    "TOTAL"
   ]
  },
  {
   "cell_type": "markdown",
   "metadata": {},
   "source": [
    "# Si te queda tiempo, puedes hacer los siguientes ejercicios:"
   ]
  },
  {
   "cell_type": "markdown",
   "metadata": {},
   "source": [
    "1. Crea un array 3D de forma (2, 3, 5) y 30 elementos con números enteros entre 0 y 100 (ambos incluidos). Reemplaza los elementos en posiciones múltiplos de 3 por 0."
   ]
  },
  {
   "cell_type": "code",
   "execution_count": 27,
   "metadata": {},
   "outputs": [
    {
     "data": {
      "text/plain": [
       "array([[[66, 13, 42,  6, 61],\n",
       "        [40, 46, 10, 82,  2],\n",
       "        [50, 74, 42, 59, 30]],\n",
       "\n",
       "       [[13, 50, 21, 47, 42],\n",
       "        [80, 50, 91, 46, 65],\n",
       "        [22, 14, 28, 54, 31]]], dtype=int32)"
      ]
     },
     "execution_count": 27,
     "metadata": {},
     "output_type": "execute_result"
    }
   ],
   "source": [
    "arr_5 = np.random.randint(0,101, (2, 3, 5))\n",
    "arr_5"
   ]
  },
  {
   "cell_type": "code",
   "execution_count": 28,
   "metadata": {},
   "outputs": [
    {
     "data": {
      "text/plain": [
       "array([[[ True, False,  True,  True, False],\n",
       "        [False, False, False, False, False],\n",
       "        [False, False,  True, False,  True]],\n",
       "\n",
       "       [[False, False,  True, False,  True],\n",
       "        [False, False, False, False, False],\n",
       "        [False, False, False,  True, False]]])"
      ]
     },
     "execution_count": 28,
     "metadata": {},
     "output_type": "execute_result"
    }
   ],
   "source": [
    "arr_5 % 3 == 0"
   ]
  },
  {
   "cell_type": "code",
   "execution_count": 29,
   "metadata": {},
   "outputs": [
    {
     "data": {
      "text/plain": [
       "array([66, 42,  6, 42, 30, 21, 42, 54], dtype=int32)"
      ]
     },
     "execution_count": 29,
     "metadata": {},
     "output_type": "execute_result"
    }
   ],
   "source": [
    "arr_5[arr_5 % 3 == 0]"
   ]
  },
  {
   "cell_type": "code",
   "execution_count": 30,
   "metadata": {},
   "outputs": [
    {
     "name": "stdout",
     "output_type": "stream",
     "text": [
      "[[[ 0 13  0  0 61]\n",
      "  [40 46 10 82  2]\n",
      "  [50 74  0 59  0]]\n",
      "\n",
      " [[13 50  0 47  0]\n",
      "  [80 50 91 46 65]\n",
      "  [22 14 28  0 31]]]\n"
     ]
    }
   ],
   "source": [
    "arr_5_2=np.where(arr_5 % 3 == 0, 0 , arr_5)\n",
    "print(arr_5_2)"
   ]
  },
  {
   "cell_type": "markdown",
   "metadata": {},
   "source": [
    "2. Crea un array 3D de forma (2, 3, 4) con valores aleatorios entre 1 y 100 (ambos inclusive). Utiliza reshape para convertirlo en un array 2D. Deberás pensar en la forma que es correcta para hacer este cambio."
   ]
  },
  {
   "cell_type": "code",
   "execution_count": 31,
   "metadata": {},
   "outputs": [
    {
     "data": {
      "text/plain": [
       "array([[[30, 64, 29, 45],\n",
       "        [ 5, 49, 92, 52],\n",
       "        [90,  4, 84, 62]],\n",
       "\n",
       "       [[56, 47, 26, 11],\n",
       "        [52, 72, 98, 57],\n",
       "        [35, 20, 82, 35]]], dtype=int32)"
      ]
     },
     "execution_count": 31,
     "metadata": {},
     "output_type": "execute_result"
    }
   ],
   "source": [
    "arr_6 = np.random.randint(0,101, (2, 3, 4))\n",
    "arr_6"
   ]
  },
  {
   "cell_type": "code",
   "execution_count": 32,
   "metadata": {},
   "outputs": [
    {
     "name": "stdout",
     "output_type": "stream",
     "text": [
      "El array después de aplicar el método 'np.reshape()' es: \n",
      " [[30 64 29 45]\n",
      " [ 5 49 92 52]\n",
      " [90  4 84 62]\n",
      " [56 47 26 11]\n",
      " [52 72 98 57]\n",
      " [35 20 82 35]]\n"
     ]
    }
   ],
   "source": [
    "reshaped_a = np.reshape(arr_6, (6, 4))\n",
    "print(f\"El array después de aplicar el método 'np.reshape()' es: \\n {reshaped_a}\")\n"
   ]
  },
  {
   "cell_type": "markdown",
   "metadata": {},
   "source": [
    "3. Crea un array 3D de forma (3, 4, 5) con valores enteros del 1 al 61 (sin incluir). Utiliza reshape para convertirlo en un array 2D."
   ]
  },
  {
   "cell_type": "code",
   "execution_count": 33,
   "metadata": {},
   "outputs": [
    {
     "data": {
      "text/plain": [
       "array([[[31, 39, 14, 44, 31],\n",
       "        [10, 27, 60, 12, 15],\n",
       "        [ 7, 20, 40,  3, 49],\n",
       "        [23, 27, 16, 13, 53]],\n",
       "\n",
       "       [[31, 23,  7,  7, 50],\n",
       "        [34, 46,  7,  9, 41],\n",
       "        [ 4, 36, 56,  2, 44],\n",
       "        [25,  8, 22, 17, 38]],\n",
       "\n",
       "       [[33, 15,  7, 16, 23],\n",
       "        [14, 37, 33, 15, 55],\n",
       "        [56, 53, 15, 31, 42],\n",
       "        [58, 54, 53, 40, 30]]], dtype=int32)"
      ]
     },
     "execution_count": 33,
     "metadata": {},
     "output_type": "execute_result"
    }
   ],
   "source": [
    "arr_7 = np.random.randint(1,61, (3, 4, 5))\n",
    "arr_7"
   ]
  },
  {
   "cell_type": "code",
   "execution_count": null,
   "metadata": {},
   "outputs": [
    {
     "name": "stdout",
     "output_type": "stream",
     "text": [
      "El array después de aplicar el método 'np.reshape()' es: \n",
      " [[31 39 14 44 31 10]\n",
      " [27 60 12 15  7 20]\n",
      " [40  3 49 23 27 16]\n",
      " [13 53 31 23  7  7]\n",
      " [50 34 46  7  9 41]\n",
      " [ 4 36 56  2 44 25]\n",
      " [ 8 22 17 38 33 15]\n",
      " [ 7 16 23 14 37 33]\n",
      " [15 55 56 53 15 31]\n",
      " [42 58 54 53 40 30]]\n"
     ]
    }
   ],
   "source": [
    "reshaped_b = np.reshape(arr_7, (10, 6))\n",
    "print(f\"El array después de aplicar el método 'np.reshape()' es: \\n {reshaped_b}\")"
   ]
  },
  {
   "cell_type": "markdown",
   "metadata": {},
   "source": [
    "4. Utiliza el array 3D del ejercicio anterior de reshape. Utiliza transpose para permutar los ejes y obtener un nuevo array con forma (5, 4, 3)."
   ]
  },
  {
   "cell_type": "code",
   "execution_count": 46,
   "metadata": {},
   "outputs": [
    {
     "name": "stdout",
     "output_type": "stream",
     "text": [
      "El array después de aplicar el método 'np.transpose()': \n",
      " [[[31 31 33]\n",
      "  [10 34 14]\n",
      "  [ 7  4 56]\n",
      "  [23 25 58]]\n",
      "\n",
      " [[39 23 15]\n",
      "  [27 46 37]\n",
      "  [20 36 53]\n",
      "  [27  8 54]]\n",
      "\n",
      " [[14  7  7]\n",
      "  [60  7 33]\n",
      "  [40 56 15]\n",
      "  [16 22 53]]\n",
      "\n",
      " [[44  7 16]\n",
      "  [12  9 15]\n",
      "  [ 3  2 31]\n",
      "  [13 17 40]]\n",
      "\n",
      " [[31 50 23]\n",
      "  [15 41 55]\n",
      "  [49 44 42]\n",
      "  [53 38 30]]]\n"
     ]
    }
   ],
   "source": [
    "tridimensional_trans_defecto = np.transpose(arr_7, (2, 1, 0))\n",
    "print(f\"El array después de aplicar el método 'np.transpose()': \\n {tridimensional_trans_defecto}\")"
   ]
  },
  {
   "cell_type": "markdown",
   "metadata": {},
   "source": [
    "5. Utiliza el array 3D del ejercicio anterior 3 de reshape. Utiliza transpose para cambiar el orden de los ejes y obtener un nuevo array con forma (3, 5, 4)."
   ]
  },
  {
   "cell_type": "code",
   "execution_count": 54,
   "metadata": {},
   "outputs": [
    {
     "ename": "ValueError",
     "evalue": "axes don't match array",
     "output_type": "error",
     "traceback": [
      "\u001b[1;31m---------------------------------------------------------------------------\u001b[0m",
      "\u001b[1;31mValueError\u001b[0m                                Traceback (most recent call last)",
      "Cell \u001b[1;32mIn[54], line 1\u001b[0m\n\u001b[1;32m----> 1\u001b[0m tridimensional_trans_defecto2 \u001b[38;5;241m=\u001b[39m \u001b[43mnp\u001b[49m\u001b[38;5;241;43m.\u001b[39;49m\u001b[43mtranspose\u001b[49m\u001b[43m(\u001b[49m\u001b[43mreshaped_b\u001b[49m\u001b[43m,\u001b[49m\u001b[43m(\u001b[49m\u001b[38;5;241;43m2\u001b[39;49m\u001b[43m,\u001b[49m\u001b[38;5;241;43m0\u001b[39;49m\u001b[43m,\u001b[49m\u001b[38;5;241;43m1\u001b[39;49m\u001b[43m)\u001b[49m\u001b[43m)\u001b[49m\n\u001b[0;32m      2\u001b[0m \u001b[38;5;28mprint\u001b[39m(\u001b[38;5;124mf\u001b[39m\u001b[38;5;124m\"\u001b[39m\u001b[38;5;124mEl array después de aplicar el método \u001b[39m\u001b[38;5;124m'\u001b[39m\u001b[38;5;124mnp.transpose()\u001b[39m\u001b[38;5;124m'\u001b[39m\u001b[38;5;124m: \u001b[39m\u001b[38;5;130;01m\\n\u001b[39;00m\u001b[38;5;124m \u001b[39m\u001b[38;5;132;01m{\u001b[39;00mtridimensional_trans_defecto2\u001b[38;5;132;01m}\u001b[39;00m\u001b[38;5;124m\"\u001b[39m)\n",
      "File \u001b[1;32m~\\AppData\\Local\\Packages\\PythonSoftwareFoundation.Python.3.11_qbz5n2kfra8p0\\LocalCache\\local-packages\\Python311\\site-packages\\numpy\\_core\\fromnumeric.py:703\u001b[0m, in \u001b[0;36mtranspose\u001b[1;34m(a, axes)\u001b[0m\n\u001b[0;32m    630\u001b[0m \u001b[38;5;129m@array_function_dispatch\u001b[39m(_transpose_dispatcher)\n\u001b[0;32m    631\u001b[0m \u001b[38;5;28;01mdef\u001b[39;00m\u001b[38;5;250m \u001b[39m\u001b[38;5;21mtranspose\u001b[39m(a, axes\u001b[38;5;241m=\u001b[39m\u001b[38;5;28;01mNone\u001b[39;00m):\n\u001b[0;32m    632\u001b[0m \u001b[38;5;250m    \u001b[39m\u001b[38;5;124;03m\"\"\"\u001b[39;00m\n\u001b[0;32m    633\u001b[0m \u001b[38;5;124;03m    Returns an array with axes transposed.\u001b[39;00m\n\u001b[0;32m    634\u001b[0m \n\u001b[1;32m   (...)\u001b[0m\n\u001b[0;32m    701\u001b[0m \n\u001b[0;32m    702\u001b[0m \u001b[38;5;124;03m    \"\"\"\u001b[39;00m\n\u001b[1;32m--> 703\u001b[0m     \u001b[38;5;28;01mreturn\u001b[39;00m \u001b[43m_wrapfunc\u001b[49m\u001b[43m(\u001b[49m\u001b[43ma\u001b[49m\u001b[43m,\u001b[49m\u001b[43m \u001b[49m\u001b[38;5;124;43m'\u001b[39;49m\u001b[38;5;124;43mtranspose\u001b[39;49m\u001b[38;5;124;43m'\u001b[39;49m\u001b[43m,\u001b[49m\u001b[43m \u001b[49m\u001b[43maxes\u001b[49m\u001b[43m)\u001b[49m\n",
      "File \u001b[1;32m~\\AppData\\Local\\Packages\\PythonSoftwareFoundation.Python.3.11_qbz5n2kfra8p0\\LocalCache\\local-packages\\Python311\\site-packages\\numpy\\_core\\fromnumeric.py:57\u001b[0m, in \u001b[0;36m_wrapfunc\u001b[1;34m(obj, method, *args, **kwds)\u001b[0m\n\u001b[0;32m     54\u001b[0m     \u001b[38;5;28;01mreturn\u001b[39;00m _wrapit(obj, method, \u001b[38;5;241m*\u001b[39margs, \u001b[38;5;241m*\u001b[39m\u001b[38;5;241m*\u001b[39mkwds)\n\u001b[0;32m     56\u001b[0m \u001b[38;5;28;01mtry\u001b[39;00m:\n\u001b[1;32m---> 57\u001b[0m     \u001b[38;5;28;01mreturn\u001b[39;00m \u001b[43mbound\u001b[49m\u001b[43m(\u001b[49m\u001b[38;5;241;43m*\u001b[39;49m\u001b[43margs\u001b[49m\u001b[43m,\u001b[49m\u001b[43m \u001b[49m\u001b[38;5;241;43m*\u001b[39;49m\u001b[38;5;241;43m*\u001b[39;49m\u001b[43mkwds\u001b[49m\u001b[43m)\u001b[49m\n\u001b[0;32m     58\u001b[0m \u001b[38;5;28;01mexcept\u001b[39;00m \u001b[38;5;167;01mTypeError\u001b[39;00m:\n\u001b[0;32m     59\u001b[0m     \u001b[38;5;66;03m# A TypeError occurs if the object does have such a method in its\u001b[39;00m\n\u001b[0;32m     60\u001b[0m     \u001b[38;5;66;03m# class, but its signature is not identical to that of NumPy's. This\u001b[39;00m\n\u001b[1;32m   (...)\u001b[0m\n\u001b[0;32m     64\u001b[0m     \u001b[38;5;66;03m# Call _wrapit from within the except clause to ensure a potential\u001b[39;00m\n\u001b[0;32m     65\u001b[0m     \u001b[38;5;66;03m# exception has a traceback chain.\u001b[39;00m\n\u001b[0;32m     66\u001b[0m     \u001b[38;5;28;01mreturn\u001b[39;00m _wrapit(obj, method, \u001b[38;5;241m*\u001b[39margs, \u001b[38;5;241m*\u001b[39m\u001b[38;5;241m*\u001b[39mkwds)\n",
      "\u001b[1;31mValueError\u001b[0m: axes don't match array"
     ]
    }
   ],
   "source": [
    "tridimensional_trans_defecto2 = np.transpose(reshaped_b,(2,0,1))\n",
    "print(f\"El array después de aplicar el método 'np.transpose()': \\n {tridimensional_trans_defecto2}\")"
   ]
  }
 ],
 "metadata": {
  "kernelspec": {
   "display_name": "Python 3",
   "language": "python",
   "name": "python3"
  },
  "language_info": {
   "codemirror_mode": {
    "name": "ipython",
    "version": 3
   },
   "file_extension": ".py",
   "mimetype": "text/x-python",
   "name": "python",
   "nbconvert_exporter": "python",
   "pygments_lexer": "ipython3",
   "version": "3.11.9"
  }
 },
 "nbformat": 4,
 "nbformat_minor": 2
}
