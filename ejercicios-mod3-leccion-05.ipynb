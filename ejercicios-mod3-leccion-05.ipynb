{
 "cells": [
  {
   "cell_type": "markdown",
   "metadata": {},
   "source": [
    "PAIR GROUPBY Y APPLY. "
   ]
  },
  {
   "cell_type": "code",
   "execution_count": 44,
   "metadata": {},
   "outputs": [],
   "source": [
    "import pandas as pd\n",
    "import numpy as np\n",
    "pd.set_option('display.max_columns', None)"
   ]
  },
  {
   "cell_type": "code",
   "execution_count": 45,
   "metadata": {},
   "outputs": [],
   "source": [
    "df = pd.read_csv(\"world_data_full.csv\", index_col = 0)"
   ]
  },
  {
   "cell_type": "markdown",
   "metadata": {},
   "source": [
    "EJERCICIOS APPLY"
   ]
  },
  {
   "cell_type": "markdown",
   "metadata": {},
   "source": [
    "1. Las columnas land_area, armed_forces_size, co2-emissions, gdp, population, urban_population, latitude, longitude, density, cpi son de tipo object pero en realidad deberían ser numéricas. Crea una función que nos permita cambiar el tipo de dato de estas columnas al que le corresponde."
   ]
  },
  {
   "cell_type": "code",
   "execution_count": 46,
   "metadata": {},
   "outputs": [
    {
     "data": {
      "text/plain": [
       "['country',\n",
       " 'density',\n",
       " 'abbreviation',\n",
       " 'agricultural_land',\n",
       " 'land_area',\n",
       " 'armed_forces_size',\n",
       " 'birth_rate',\n",
       " 'calling_code',\n",
       " 'capital/major_city',\n",
       " 'co2-emissions',\n",
       " 'cpi',\n",
       " 'cpi_change',\n",
       " 'currency-code',\n",
       " 'fertility_rate',\n",
       " 'forested_area',\n",
       " 'gasoline_price',\n",
       " 'gdp',\n",
       " 'gross_primary_education_enrollment',\n",
       " 'gross_tertiary_education_enrollment',\n",
       " 'infant_mortality',\n",
       " 'largest_city',\n",
       " 'life_expectancy',\n",
       " 'maternal_mortality_ratio',\n",
       " 'minimum_wage',\n",
       " 'official_language',\n",
       " 'out_of_pocket_health_expenditure',\n",
       " 'physicians_per_thousand',\n",
       " 'population',\n",
       " 'population_labor_force_participation',\n",
       " 'tax_revenue',\n",
       " 'total_tax_rate',\n",
       " 'unemployment_rate',\n",
       " 'urban_population',\n",
       " 'latitude',\n",
       " 'longitude']"
      ]
     },
     "execution_count": 46,
     "metadata": {},
     "output_type": "execute_result"
    }
   ],
   "source": [
    "df.columns.tolist()"
   ]
  },
  {
   "cell_type": "code",
   "execution_count": 47,
   "metadata": {},
   "outputs": [
    {
     "data": {
      "text/plain": [
       "land_area            object\n",
       "armed_forces_size    object\n",
       "co2-emissions        object\n",
       "gdp                  object\n",
       "population           object\n",
       "urban_population     object\n",
       "latitude             object\n",
       "longitude            object\n",
       "density              object\n",
       "cpi                  object\n",
       "dtype: object"
      ]
     },
     "execution_count": 47,
     "metadata": {},
     "output_type": "execute_result"
    }
   ],
   "source": [
    "columnas_a_convertir = [\n",
    "    \"land_area\", \"armed_forces_size\", \"co2-emissions\", \"gdp\",\n",
    "    \"population\", \"urban_population\", \"latitude\", \"longitude\",\n",
    "    \"density\", \"cpi\"\n",
    "]\n",
    "\n",
    "df[columnas_a_convertir].dtypes\n"
   ]
  },
  {
   "cell_type": "code",
   "execution_count": 48,
   "metadata": {},
   "outputs": [
    {
     "data": {
      "text/html": [
       "<div>\n",
       "<style scoped>\n",
       "    .dataframe tbody tr th:only-of-type {\n",
       "        vertical-align: middle;\n",
       "    }\n",
       "\n",
       "    .dataframe tbody tr th {\n",
       "        vertical-align: top;\n",
       "    }\n",
       "\n",
       "    .dataframe thead th {\n",
       "        text-align: right;\n",
       "    }\n",
       "</style>\n",
       "<table border=\"1\" class=\"dataframe\">\n",
       "  <thead>\n",
       "    <tr style=\"text-align: right;\">\n",
       "      <th></th>\n",
       "      <th>land_area</th>\n",
       "      <th>armed_forces_size</th>\n",
       "      <th>co2-emissions</th>\n",
       "      <th>gdp</th>\n",
       "      <th>population</th>\n",
       "      <th>urban_population</th>\n",
       "      <th>latitude</th>\n",
       "      <th>longitude</th>\n",
       "      <th>density</th>\n",
       "      <th>cpi</th>\n",
       "    </tr>\n",
       "  </thead>\n",
       "  <tbody>\n",
       "    <tr>\n",
       "      <th>9</th>\n",
       "      <td>83,871</td>\n",
       "      <td>21,000</td>\n",
       "      <td>61,448</td>\n",
       "      <td>446,314,739,528</td>\n",
       "      <td>8,877,067</td>\n",
       "      <td>5,194,416</td>\n",
       "      <td>47.516231</td>\n",
       "      <td>14.550072</td>\n",
       "      <td>109</td>\n",
       "      <td>118.06</td>\n",
       "    </tr>\n",
       "    <tr>\n",
       "      <th>39</th>\n",
       "      <td>342,000</td>\n",
       "      <td>12,000</td>\n",
       "      <td>3,282</td>\n",
       "      <td>10,820,591,131</td>\n",
       "      <td>5,380,508</td>\n",
       "      <td>3,625,010</td>\n",
       "      <td>-0.228021</td>\n",
       "      <td>15.827659</td>\n",
       "      <td>16</td>\n",
       "      <td>124.74</td>\n",
       "    </tr>\n",
       "    <tr>\n",
       "      <th>57</th>\n",
       "      <td>1,104,300</td>\n",
       "      <td>138,000</td>\n",
       "      <td>14,870</td>\n",
       "      <td>96,107,662,398</td>\n",
       "      <td>112,078,730</td>\n",
       "      <td>23,788,710</td>\n",
       "      <td>9.145</td>\n",
       "      <td>40.489673</td>\n",
       "      <td>115</td>\n",
       "      <td>143.86</td>\n",
       "    </tr>\n",
       "  </tbody>\n",
       "</table>\n",
       "</div>"
      ],
      "text/plain": [
       "    land_area armed_forces_size co2-emissions               gdp   population  \\\n",
       "9      83,871            21,000        61,448  446,314,739,528     8,877,067   \n",
       "39    342,000            12,000         3,282   10,820,591,131     5,380,508   \n",
       "57  1,104,300           138,000        14,870   96,107,662,398   112,078,730   \n",
       "\n",
       "   urban_population    latitude   longitude density     cpi  \n",
       "9         5,194,416  47.516231    14.550072     109  118.06  \n",
       "39        3,625,010  -0.228021    15.827659      16  124.74  \n",
       "57       23,788,710      9.145    40.489673     115  143.86  "
      ]
     },
     "execution_count": 48,
     "metadata": {},
     "output_type": "execute_result"
    }
   ],
   "source": [
    "df[columnas_a_convertir].sample(3)"
   ]
  },
  {
   "cell_type": "code",
   "execution_count": 49,
   "metadata": {},
   "outputs": [],
   "source": [
    " # voy a usar la columna dgp\n",
    "\n",
    "df[\"gdp\"] = (df[\"gdp\"].str.strip().str.replace(\",\", \"\").astype(float))"
   ]
  },
  {
   "cell_type": "code",
   "execution_count": 50,
   "metadata": {},
   "outputs": [
    {
     "data": {
      "text/plain": [
       "28    5.879221e+10\n",
       "96    3.070518e+09\n",
       "Name: gdp, dtype: float64"
      ]
     },
     "execution_count": 50,
     "metadata": {},
     "output_type": "execute_result"
    }
   ],
   "source": [
    "df[\"gdp\"].sample(2)"
   ]
  },
  {
   "cell_type": "code",
   "execution_count": 51,
   "metadata": {},
   "outputs": [],
   "source": [
    "# hago una funcion para aplicarla a todas las columnas, esta funcion recibe una seria/columna del DF para aplicarla.\n",
    "\n",
    "def limpiar_columna(serie):\n",
    "    return (\n",
    "        serie\n",
    "        .astype(str)           # aseguro que todo sea string\n",
    "        .str.strip()           # quito espacios\n",
    "        .str.replace(\",\", \"\")  # quito comas\n",
    "        .astype(float)         # convierto a número decimal\n",
    "    )\n"
   ]
  },
  {
   "cell_type": "code",
   "execution_count": 52,
   "metadata": {},
   "outputs": [],
   "source": [
    "columnas_a_convertir = [\n",
    "    \"land_area\", \"armed_forces_size\", \"co2-emissions\", \"gdp\",\n",
    "    \"population\", \"urban_population\", \"latitude\", \"longitude\",\n",
    "    \"density\", \"cpi\"\n",
    "]\n",
    "\n",
    "for col in columnas_a_convertir:\n",
    "    df[col] = limpiar_columna(df[col])\n"
   ]
  },
  {
   "cell_type": "code",
   "execution_count": 53,
   "metadata": {},
   "outputs": [
    {
     "data": {
      "text/html": [
       "<div>\n",
       "<style scoped>\n",
       "    .dataframe tbody tr th:only-of-type {\n",
       "        vertical-align: middle;\n",
       "    }\n",
       "\n",
       "    .dataframe tbody tr th {\n",
       "        vertical-align: top;\n",
       "    }\n",
       "\n",
       "    .dataframe thead th {\n",
       "        text-align: right;\n",
       "    }\n",
       "</style>\n",
       "<table border=\"1\" class=\"dataframe\">\n",
       "  <thead>\n",
       "    <tr style=\"text-align: right;\">\n",
       "      <th></th>\n",
       "      <th>land_area</th>\n",
       "      <th>armed_forces_size</th>\n",
       "      <th>co2-emissions</th>\n",
       "      <th>gdp</th>\n",
       "      <th>population</th>\n",
       "      <th>urban_population</th>\n",
       "      <th>latitude</th>\n",
       "      <th>longitude</th>\n",
       "      <th>density</th>\n",
       "      <th>cpi</th>\n",
       "    </tr>\n",
       "  </thead>\n",
       "  <tbody>\n",
       "    <tr>\n",
       "      <th>103</th>\n",
       "      <td>329847.0</td>\n",
       "      <td>136000.0</td>\n",
       "      <td>248289.0</td>\n",
       "      <td>3.647015e+11</td>\n",
       "      <td>32447385.0</td>\n",
       "      <td>24475766.0</td>\n",
       "      <td>4.210484</td>\n",
       "      <td>101.975766</td>\n",
       "      <td>99.0</td>\n",
       "      <td>121.46</td>\n",
       "    </tr>\n",
       "    <tr>\n",
       "      <th>50</th>\n",
       "      <td>283561.0</td>\n",
       "      <td>41000.0</td>\n",
       "      <td>41155.0</td>\n",
       "      <td>1.074357e+11</td>\n",
       "      <td>17373662.0</td>\n",
       "      <td>11116711.0</td>\n",
       "      <td>-1.831239</td>\n",
       "      <td>-78.183406</td>\n",
       "      <td>71.0</td>\n",
       "      <td>124.14</td>\n",
       "    </tr>\n",
       "    <tr>\n",
       "      <th>1</th>\n",
       "      <td>28748.0</td>\n",
       "      <td>9000.0</td>\n",
       "      <td>4536.0</td>\n",
       "      <td>1.527808e+10</td>\n",
       "      <td>2854191.0</td>\n",
       "      <td>1747593.0</td>\n",
       "      <td>41.153332</td>\n",
       "      <td>20.168331</td>\n",
       "      <td>105.0</td>\n",
       "      <td>119.05</td>\n",
       "    </tr>\n",
       "  </tbody>\n",
       "</table>\n",
       "</div>"
      ],
      "text/plain": [
       "     land_area  armed_forces_size  co2-emissions           gdp  population  \\\n",
       "103   329847.0           136000.0       248289.0  3.647015e+11  32447385.0   \n",
       "50    283561.0            41000.0        41155.0  1.074357e+11  17373662.0   \n",
       "1      28748.0             9000.0         4536.0  1.527808e+10   2854191.0   \n",
       "\n",
       "     urban_population   latitude   longitude  density     cpi  \n",
       "103        24475766.0   4.210484  101.975766     99.0  121.46  \n",
       "50         11116711.0  -1.831239  -78.183406     71.0  124.14  \n",
       "1           1747593.0  41.153332   20.168331    105.0  119.05  "
      ]
     },
     "execution_count": 53,
     "metadata": {},
     "output_type": "execute_result"
    }
   ],
   "source": [
    "df[columnas_a_convertir].sample(3)"
   ]
  },
  {
   "cell_type": "markdown",
   "metadata": {},
   "source": [
    "2. Crea una función para añadir una nueva columna llamada 'Continent' al DataFrame para indicar a qué continente pertenece cada país."
   ]
  },
  {
   "cell_type": "code",
   "execution_count": null,
   "metadata": {},
   "outputs": [],
   "source": [
    "# primero creo un diccionario de paises y continentes:\n",
    "\n",
    "paises_continentes = {\n",
    "    'Spain': 'Europe',\n",
    "    'France': 'Europe',\n",
    "    'Germany': 'Europe',\n",
    "    'United States': 'North America',\n",
    "    'Canada': 'North America',\n",
    "    'Brazil': 'South America',\n",
    "    'Argentina': 'South America',\n",
    "    'Nigeria': 'Africa',\n",
    "    'South Africa': 'Africa',\n",
    "    'India': 'Asia',\n",
    "    'China': 'Asia',\n",
    "    'Japan': 'Asia',\n",
    "    'Australia': 'Oceania',\n",
    "}\n"
   ]
  },
  {
   "cell_type": "code",
   "execution_count": 55,
   "metadata": {},
   "outputs": [],
   "source": [
    "# despues hago una funcion para indicar el continente:\n",
    "\n",
    "def continente (pais):\n",
    "    return paises_continentes.get(pais, \"Unknown\")\n",
    "\n",
    "# Esta función busca el país en el diccionario y devolverá el continente correspondiente. Si no lo encuentra, puede devolver \"Unknown\""
   ]
  },
  {
   "cell_type": "code",
   "execution_count": null,
   "metadata": {},
   "outputs": [],
   "source": [
    "# hago que la funcion sirva en la columna del pais:\n",
    "def continente (pais):\n",
    "    return paises_continentes.get(pais, \"Unknown\")\n",
    "\n",
    "# df[\"country\"]-> accede a la columna country\n",
    "# .apply(continente) -> aplica la funcion (continente) a cada fila de la columna xountry.\n",
    "# df[\"continent\"] -> crea una nueva columna llamanda \"continent\" con los resultados que devuelve la funcion para cada pais.\n"
   ]
  },
  {
   "cell_type": "markdown",
   "metadata": {},
   "source": [
    "3. Guarda el DataFrame después de los cambios creados después de los dos ejercicios anteriores para usarlo posteriormente."
   ]
  },
  {
   "cell_type": "code",
   "execution_count": 57,
   "metadata": {},
   "outputs": [],
   "source": [
    "# Guardamos el DataFrame en un nuevo archivo CSV\n",
    "df.to_csv(\"world_data_clean.csv\", index=False)\n"
   ]
  },
  {
   "cell_type": "markdown",
   "metadata": {},
   "source": [
    "EJERCICIOS GROUP BY:"
   ]
  },
  {
   "cell_type": "markdown",
   "metadata": {},
   "source": [
    "1. ¿Cuál es la densidad de población promedio por continente?"
   ]
  },
  {
   "cell_type": "code",
   "execution_count": 60,
   "metadata": {},
   "outputs": [
    {
     "data": {
      "text/plain": [
       "['country',\n",
       " 'density',\n",
       " 'abbreviation',\n",
       " 'agricultural_land',\n",
       " 'land_area',\n",
       " 'armed_forces_size',\n",
       " 'birth_rate',\n",
       " 'calling_code',\n",
       " 'capital/major_city',\n",
       " 'co2-emissions',\n",
       " 'cpi',\n",
       " 'cpi_change',\n",
       " 'currency-code',\n",
       " 'fertility_rate',\n",
       " 'forested_area',\n",
       " 'gasoline_price',\n",
       " 'gdp',\n",
       " 'gross_primary_education_enrollment',\n",
       " 'gross_tertiary_education_enrollment',\n",
       " 'infant_mortality',\n",
       " 'largest_city',\n",
       " 'life_expectancy',\n",
       " 'maternal_mortality_ratio',\n",
       " 'minimum_wage',\n",
       " 'official_language',\n",
       " 'out_of_pocket_health_expenditure',\n",
       " 'physicians_per_thousand',\n",
       " 'population',\n",
       " 'population_labor_force_participation',\n",
       " 'tax_revenue',\n",
       " 'total_tax_rate',\n",
       " 'unemployment_rate',\n",
       " 'urban_population',\n",
       " 'latitude',\n",
       " 'longitude',\n",
       " 'continent']"
      ]
     },
     "execution_count": 60,
     "metadata": {},
     "output_type": "execute_result"
    }
   ],
   "source": [
    "df.columns.tolist()"
   ]
  },
  {
   "cell_type": "code",
   "execution_count": 61,
   "metadata": {},
   "outputs": [
    {
     "data": {
      "text/plain": [
       "33     8.0\n",
       "58    49.0\n",
       "Name: density, dtype: float64"
      ]
     },
     "execution_count": 61,
     "metadata": {},
     "output_type": "execute_result"
    }
   ],
   "source": [
    "df[\"density\"].sample(2)\n"
   ]
  },
  {
   "cell_type": "code",
   "execution_count": 62,
   "metadata": {},
   "outputs": [
    {
     "data": {
      "text/plain": [
       "52     Unknown\n",
       "174    Unknown\n",
       "Name: continent, dtype: object"
      ]
     },
     "execution_count": 62,
     "metadata": {},
     "output_type": "execute_result"
    }
   ],
   "source": [
    "df['continent'].sample(2)"
   ]
  },
  {
   "cell_type": "code",
   "execution_count": 70,
   "metadata": {},
   "outputs": [],
   "source": [
    "\n",
    "# Agrupar por continente y calcular la media de la densidad\n",
    "df_densidad_media = df.groupby(\"continent\")[\"density\"].mean().reset_index()\n",
    "\n",
    "#agrupamos por continente\n",
    "# selecciono la columna density que es la columna que quiero usar una vez agrupado por continente.\n",
    "# calculo la media (mean)\n",
    "# reset_index() para que sea DF\n"
   ]
  },
  {
   "cell_type": "code",
   "execution_count": 71,
   "metadata": {},
   "outputs": [
    {
     "data": {
      "text/html": [
       "<div>\n",
       "<style scoped>\n",
       "    .dataframe tbody tr th:only-of-type {\n",
       "        vertical-align: middle;\n",
       "    }\n",
       "\n",
       "    .dataframe tbody tr th {\n",
       "        vertical-align: top;\n",
       "    }\n",
       "\n",
       "    .dataframe thead th {\n",
       "        text-align: right;\n",
       "    }\n",
       "</style>\n",
       "<table border=\"1\" class=\"dataframe\">\n",
       "  <thead>\n",
       "    <tr style=\"text-align: right;\">\n",
       "      <th></th>\n",
       "      <th>continent</th>\n",
       "      <th>density</th>\n",
       "    </tr>\n",
       "  </thead>\n",
       "  <tbody>\n",
       "    <tr>\n",
       "      <th>4</th>\n",
       "      <td>Oceania</td>\n",
       "      <td>3.000000</td>\n",
       "    </tr>\n",
       "    <tr>\n",
       "      <th>6</th>\n",
       "      <td>Unknown</td>\n",
       "      <td>372.483516</td>\n",
       "    </tr>\n",
       "    <tr>\n",
       "      <th>2</th>\n",
       "      <td>Europe</td>\n",
       "      <td>151.000000</td>\n",
       "    </tr>\n",
       "  </tbody>\n",
       "</table>\n",
       "</div>"
      ],
      "text/plain": [
       "  continent     density\n",
       "4   Oceania    3.000000\n",
       "6   Unknown  372.483516\n",
       "2    Europe  151.000000"
      ]
     },
     "execution_count": 71,
     "metadata": {},
     "output_type": "execute_result"
    }
   ],
   "source": [
    "df_densidad_media.sample(3)"
   ]
  },
  {
   "cell_type": "markdown",
   "metadata": {},
   "source": [
    "2. ¿Cuál es la esperanza de vida promedio por idioma oficial? Agrupa los países por idioma oficial y calcula la esperanza de vida promedio."
   ]
  },
  {
   "cell_type": "code",
   "execution_count": 72,
   "metadata": {},
   "outputs": [
    {
     "data": {
      "text/html": [
       "<div>\n",
       "<style scoped>\n",
       "    .dataframe tbody tr th:only-of-type {\n",
       "        vertical-align: middle;\n",
       "    }\n",
       "\n",
       "    .dataframe tbody tr th {\n",
       "        vertical-align: top;\n",
       "    }\n",
       "\n",
       "    .dataframe thead th {\n",
       "        text-align: right;\n",
       "    }\n",
       "</style>\n",
       "<table border=\"1\" class=\"dataframe\">\n",
       "  <thead>\n",
       "    <tr style=\"text-align: right;\">\n",
       "      <th></th>\n",
       "      <th>official_language</th>\n",
       "      <th>life_expectancy</th>\n",
       "    </tr>\n",
       "  </thead>\n",
       "  <tbody>\n",
       "    <tr>\n",
       "      <th>0</th>\n",
       "      <td>Pashto</td>\n",
       "      <td>64.5</td>\n",
       "    </tr>\n",
       "    <tr>\n",
       "      <th>1</th>\n",
       "      <td>Albanian</td>\n",
       "      <td>78.5</td>\n",
       "    </tr>\n",
       "    <tr>\n",
       "      <th>2</th>\n",
       "      <td>Arabic</td>\n",
       "      <td>76.7</td>\n",
       "    </tr>\n",
       "  </tbody>\n",
       "</table>\n",
       "</div>"
      ],
      "text/plain": [
       "  official_language  life_expectancy\n",
       "0            Pashto             64.5\n",
       "1          Albanian             78.5\n",
       "2            Arabic             76.7"
      ]
     },
     "execution_count": 72,
     "metadata": {},
     "output_type": "execute_result"
    }
   ],
   "source": [
    "# agrupar por idioma oficial (official_language) y calcula la media (mean) de la esperanza de vida (life_expectancy)\n",
    "\n",
    "# primero reviso las columnas:\n",
    "\n",
    "df[[\"official_language\", \"life_expectancy\"]].head(3)\n"
   ]
  },
  {
   "cell_type": "code",
   "execution_count": null,
   "metadata": {},
   "outputs": [],
   "source": [
    "\n",
    "\n",
    "# Agrupar por idioma y calcular la media de esperanza de vida\n",
    "df_vida_media = df.groupby(\"official_language\")[\"life_expectancy\"].mean().reset_index()\n",
    "\n",
    "# groupby(\"official_language\") -> Agrupo por idioma.\n",
    "# [\"life_expectancy\"] -> me quedo con la columna de interés.\n",
    "# .mean() -> Calculo la media por grupo.\n",
    "# .reset_index() -> Para convertir el índice en columna y que el resultado sea más legible."
   ]
  },
  {
   "cell_type": "code",
   "execution_count": 74,
   "metadata": {},
   "outputs": [
    {
     "data": {
      "text/html": [
       "<div>\n",
       "<style scoped>\n",
       "    .dataframe tbody tr th:only-of-type {\n",
       "        vertical-align: middle;\n",
       "    }\n",
       "\n",
       "    .dataframe tbody tr th {\n",
       "        vertical-align: top;\n",
       "    }\n",
       "\n",
       "    .dataframe thead th {\n",
       "        text-align: right;\n",
       "    }\n",
       "</style>\n",
       "<table border=\"1\" class=\"dataframe\">\n",
       "  <thead>\n",
       "    <tr style=\"text-align: right;\">\n",
       "      <th></th>\n",
       "      <th>official_language</th>\n",
       "      <th>life_expectancy</th>\n",
       "    </tr>\n",
       "  </thead>\n",
       "  <tbody>\n",
       "    <tr>\n",
       "      <th>43</th>\n",
       "      <td>Marshallese</td>\n",
       "      <td>65.2</td>\n",
       "    </tr>\n",
       "    <tr>\n",
       "      <th>46</th>\n",
       "      <td>Montenegrin language</td>\n",
       "      <td>76.8</td>\n",
       "    </tr>\n",
       "    <tr>\n",
       "      <th>15</th>\n",
       "      <td>Dutch</td>\n",
       "      <td>76.7</td>\n",
       "    </tr>\n",
       "  </tbody>\n",
       "</table>\n",
       "</div>"
      ],
      "text/plain": [
       "       official_language  life_expectancy\n",
       "43           Marshallese             65.2\n",
       "46  Montenegrin language             76.8\n",
       "15                 Dutch             76.7"
      ]
     },
     "execution_count": 74,
     "metadata": {},
     "output_type": "execute_result"
    }
   ],
   "source": [
    "df_vida_media.sample(3)"
   ]
  },
  {
   "cell_type": "markdown",
   "metadata": {},
   "source": [
    "3- ¿Cuál es la tasa de mortalidad infantil promedio por moneda?"
   ]
  },
  {
   "cell_type": "code",
   "execution_count": null,
   "metadata": {},
   "outputs": [],
   "source": [
    "\n",
    "# currency_code → la moneda del país\n",
    "# infant_mortality → tasa de mortalidad infantil"
   ]
  },
  {
   "cell_type": "code",
   "execution_count": 79,
   "metadata": {},
   "outputs": [
    {
     "data": {
      "text/plain": [
       "['country',\n",
       " 'density',\n",
       " 'abbreviation',\n",
       " 'agricultural_land',\n",
       " 'land_area',\n",
       " 'armed_forces_size',\n",
       " 'birth_rate',\n",
       " 'calling_code',\n",
       " 'capital/major_city',\n",
       " 'co2-emissions',\n",
       " 'cpi',\n",
       " 'cpi_change',\n",
       " 'currency-code',\n",
       " 'fertility_rate',\n",
       " 'forested_area',\n",
       " 'gasoline_price',\n",
       " 'gdp',\n",
       " 'gross_primary_education_enrollment',\n",
       " 'gross_tertiary_education_enrollment',\n",
       " 'infant_mortality',\n",
       " 'largest_city',\n",
       " 'life_expectancy',\n",
       " 'maternal_mortality_ratio',\n",
       " 'minimum_wage',\n",
       " 'official_language',\n",
       " 'out_of_pocket_health_expenditure',\n",
       " 'physicians_per_thousand',\n",
       " 'population',\n",
       " 'population_labor_force_participation',\n",
       " 'tax_revenue',\n",
       " 'total_tax_rate',\n",
       " 'unemployment_rate',\n",
       " 'urban_population',\n",
       " 'latitude',\n",
       " 'longitude',\n",
       " 'continent']"
      ]
     },
     "execution_count": 79,
     "metadata": {},
     "output_type": "execute_result"
    }
   ],
   "source": [
    "df.columns.tolist()\n"
   ]
  },
  {
   "cell_type": "code",
   "execution_count": 82,
   "metadata": {},
   "outputs": [
    {
     "data": {
      "text/html": [
       "<div>\n",
       "<style scoped>\n",
       "    .dataframe tbody tr th:only-of-type {\n",
       "        vertical-align: middle;\n",
       "    }\n",
       "\n",
       "    .dataframe tbody tr th {\n",
       "        vertical-align: top;\n",
       "    }\n",
       "\n",
       "    .dataframe thead th {\n",
       "        text-align: right;\n",
       "    }\n",
       "</style>\n",
       "<table border=\"1\" class=\"dataframe\">\n",
       "  <thead>\n",
       "    <tr style=\"text-align: right;\">\n",
       "      <th></th>\n",
       "      <th>currency-code</th>\n",
       "      <th>infant_mortality</th>\n",
       "    </tr>\n",
       "  </thead>\n",
       "  <tbody>\n",
       "    <tr>\n",
       "      <th>14</th>\n",
       "      <td>BBD</td>\n",
       "      <td>11.3</td>\n",
       "    </tr>\n",
       "    <tr>\n",
       "      <th>17</th>\n",
       "      <td>BZD</td>\n",
       "      <td>11.2</td>\n",
       "    </tr>\n",
       "  </tbody>\n",
       "</table>\n",
       "</div>"
      ],
      "text/plain": [
       "   currency-code  infant_mortality\n",
       "14           BBD              11.3\n",
       "17           BZD              11.2"
      ]
     },
     "execution_count": 82,
     "metadata": {},
     "output_type": "execute_result"
    }
   ],
   "source": [
    "df[[\"currency-code\", \"infant_mortality\"]].sample(2)"
   ]
  },
  {
   "cell_type": "code",
   "execution_count": 83,
   "metadata": {},
   "outputs": [
    {
     "data": {
      "text/html": [
       "<div>\n",
       "<style scoped>\n",
       "    .dataframe tbody tr th:only-of-type {\n",
       "        vertical-align: middle;\n",
       "    }\n",
       "\n",
       "    .dataframe tbody tr th {\n",
       "        vertical-align: top;\n",
       "    }\n",
       "\n",
       "    .dataframe thead th {\n",
       "        text-align: right;\n",
       "    }\n",
       "</style>\n",
       "<table border=\"1\" class=\"dataframe\">\n",
       "  <thead>\n",
       "    <tr style=\"text-align: right;\">\n",
       "      <th></th>\n",
       "      <th>currency-code</th>\n",
       "      <th>infant_mortality</th>\n",
       "    </tr>\n",
       "  </thead>\n",
       "  <tbody>\n",
       "    <tr>\n",
       "      <th>0</th>\n",
       "      <td>AED</td>\n",
       "      <td>6.5</td>\n",
       "    </tr>\n",
       "    <tr>\n",
       "      <th>1</th>\n",
       "      <td>AFN</td>\n",
       "      <td>47.9</td>\n",
       "    </tr>\n",
       "    <tr>\n",
       "      <th>2</th>\n",
       "      <td>ALL</td>\n",
       "      <td>7.8</td>\n",
       "    </tr>\n",
       "    <tr>\n",
       "      <th>3</th>\n",
       "      <td>AMD</td>\n",
       "      <td>11.0</td>\n",
       "    </tr>\n",
       "    <tr>\n",
       "      <th>4</th>\n",
       "      <td>AOA</td>\n",
       "      <td>51.6</td>\n",
       "    </tr>\n",
       "  </tbody>\n",
       "</table>\n",
       "</div>"
      ],
      "text/plain": [
       "  currency-code  infant_mortality\n",
       "0           AED               6.5\n",
       "1           AFN              47.9\n",
       "2           ALL               7.8\n",
       "3           AMD              11.0\n",
       "4           AOA              51.6"
      ]
     },
     "execution_count": 83,
     "metadata": {},
     "output_type": "execute_result"
    }
   ],
   "source": [
    "# Agrupo por 'currency-code' y saco la media de la columna 'infant_mortality'\n",
    "mortalidad_por_moneda = df.groupby('currency-code')['infant_mortality'].mean().reset_index()\n",
    "\n",
    "\n",
    "mortalidad_por_moneda.head()\n"
   ]
  },
  {
   "cell_type": "markdown",
   "metadata": {},
   "source": [
    "4. ¿Cuál es el salario mínimo por continente?"
   ]
  },
  {
   "cell_type": "code",
   "execution_count": 84,
   "metadata": {},
   "outputs": [
    {
     "data": {
      "text/plain": [
       "174    0.60\n",
       "117    0.27\n",
       "Name: minimum_wage, dtype: float64"
      ]
     },
     "execution_count": 84,
     "metadata": {},
     "output_type": "execute_result"
    }
   ],
   "source": [
    "df['minimum_wage'].sample(2)"
   ]
  },
  {
   "cell_type": "code",
   "execution_count": 85,
   "metadata": {},
   "outputs": [
    {
     "data": {
      "text/html": [
       "<div>\n",
       "<style scoped>\n",
       "    .dataframe tbody tr th:only-of-type {\n",
       "        vertical-align: middle;\n",
       "    }\n",
       "\n",
       "    .dataframe tbody tr th {\n",
       "        vertical-align: top;\n",
       "    }\n",
       "\n",
       "    .dataframe thead th {\n",
       "        text-align: right;\n",
       "    }\n",
       "</style>\n",
       "<table border=\"1\" class=\"dataframe\">\n",
       "  <thead>\n",
       "    <tr style=\"text-align: right;\">\n",
       "      <th></th>\n",
       "      <th>continent</th>\n",
       "      <th>minimum_wage</th>\n",
       "    </tr>\n",
       "  </thead>\n",
       "  <tbody>\n",
       "    <tr>\n",
       "      <th>0</th>\n",
       "      <td>Africa</td>\n",
       "      <td>0.540000</td>\n",
       "    </tr>\n",
       "    <tr>\n",
       "      <th>1</th>\n",
       "      <td>Asia</td>\n",
       "      <td>2.646667</td>\n",
       "    </tr>\n",
       "    <tr>\n",
       "      <th>2</th>\n",
       "      <td>Europe</td>\n",
       "      <td>8.916667</td>\n",
       "    </tr>\n",
       "    <tr>\n",
       "      <th>3</th>\n",
       "      <td>North America</td>\n",
       "      <td>8.380000</td>\n",
       "    </tr>\n",
       "    <tr>\n",
       "      <th>4</th>\n",
       "      <td>Oceania</td>\n",
       "      <td>13.590000</td>\n",
       "    </tr>\n",
       "    <tr>\n",
       "      <th>5</th>\n",
       "      <td>South America</td>\n",
       "      <td>2.440000</td>\n",
       "    </tr>\n",
       "    <tr>\n",
       "      <th>6</th>\n",
       "      <td>Unknown</td>\n",
       "      <td>1.874348</td>\n",
       "    </tr>\n",
       "  </tbody>\n",
       "</table>\n",
       "</div>"
      ],
      "text/plain": [
       "       continent  minimum_wage\n",
       "0         Africa      0.540000\n",
       "1           Asia      2.646667\n",
       "2         Europe      8.916667\n",
       "3  North America      8.380000\n",
       "4        Oceania     13.590000\n",
       "5  South America      2.440000\n",
       "6        Unknown      1.874348"
      ]
     },
     "execution_count": 85,
     "metadata": {},
     "output_type": "execute_result"
    }
   ],
   "source": [
    "# agrupo por continente y saco la media del salario  minimo\n",
    "\n",
    "df.groupby(\"continent\")[\"minimum_wage\"].mean().reset_index()\n"
   ]
  },
  {
   "cell_type": "markdown",
   "metadata": {},
   "source": [
    "5.  ¿Cuál es la tasa de impuestos total máxima por densidad de población por continente? Para solucionar este ejercicio puedes:\n",
    "Primero, necesitas calcular la tasa de impuestos total para cada continente. La tasa de impuestos total se encuentra en la columna \"total_tax_rate\".\n",
    "Luego, calcula la densidad de población para cada continente. La densidad de población se encuentra en la columna \"density\".\n",
    "Ahora, divide la tasa de impuestos total entre la densidad de población para obtener la tasa de impuestos total por persona por kilómetro cuadrado.\n",
    "Encuentra el país que tiene el valor más alto en esta nueva columna calculada."
   ]
  },
  {
   "cell_type": "code",
   "execution_count": null,
   "metadata": {},
   "outputs": [
    {
     "data": {
      "text/plain": [
       "['country',\n",
       " 'density',\n",
       " 'abbreviation',\n",
       " 'agricultural_land',\n",
       " 'land_area',\n",
       " 'armed_forces_size',\n",
       " 'birth_rate',\n",
       " 'calling_code',\n",
       " 'capital/major_city',\n",
       " 'co2-emissions',\n",
       " 'cpi',\n",
       " 'cpi_change',\n",
       " 'currency-code',\n",
       " 'fertility_rate',\n",
       " 'forested_area',\n",
       " 'gasoline_price',\n",
       " 'gdp',\n",
       " 'gross_primary_education_enrollment',\n",
       " 'gross_tertiary_education_enrollment',\n",
       " 'infant_mortality',\n",
       " 'largest_city',\n",
       " 'life_expectancy',\n",
       " 'maternal_mortality_ratio',\n",
       " 'minimum_wage',\n",
       " 'official_language',\n",
       " 'out_of_pocket_health_expenditure',\n",
       " 'physicians_per_thousand',\n",
       " 'population',\n",
       " 'population_labor_force_participation',\n",
       " 'tax_revenue',\n",
       " 'total_tax_rate',\n",
       " 'unemployment_rate',\n",
       " 'urban_population',\n",
       " 'latitude',\n",
       " 'longitude',\n",
       " 'continent']"
      ]
     },
     "execution_count": 86,
     "metadata": {},
     "output_type": "execute_result"
    }
   ],
   "source": [
    "df.columns.tolist()\n",
    "\n",
    "# las columnas que necesito son: \"total_tax_rate\" -> tasa total de impuestos (%)   y \"density\" -> densidad de poblacion por km cuadrado"
   ]
  },
  {
   "cell_type": "code",
   "execution_count": 90,
   "metadata": {},
   "outputs": [
    {
     "data": {
      "text/plain": [
       "total_tax_rate    float64\n",
       "density           float64\n",
       "dtype: object"
      ]
     },
     "execution_count": 90,
     "metadata": {},
     "output_type": "execute_result"
    }
   ],
   "source": [
    "df[[\"total_tax_rate\", \"density\"]].dtypes"
   ]
  },
  {
   "cell_type": "code",
   "execution_count": 91,
   "metadata": {},
   "outputs": [],
   "source": [
    "# creo una nueva columna: voy a dividir total_tax_rate entre density para obtener la tasa de impuestos por km cuadrado.\n",
    "\n",
    "df[\"tax_per_density\"] = df[\"total_tax_rate\"] / df[\"density\"]\n",
    "# esto crea una nueva columna llamada tax_per_density\n"
   ]
  },
  {
   "cell_type": "code",
   "execution_count": 94,
   "metadata": {},
   "outputs": [
    {
     "data": {
      "text/html": [
       "<div>\n",
       "<style scoped>\n",
       "    .dataframe tbody tr th:only-of-type {\n",
       "        vertical-align: middle;\n",
       "    }\n",
       "\n",
       "    .dataframe tbody tr th {\n",
       "        vertical-align: top;\n",
       "    }\n",
       "\n",
       "    .dataframe thead th {\n",
       "        text-align: right;\n",
       "    }\n",
       "</style>\n",
       "<table border=\"1\" class=\"dataframe\">\n",
       "  <thead>\n",
       "    <tr style=\"text-align: right;\">\n",
       "      <th></th>\n",
       "      <th>country</th>\n",
       "      <th>continent</th>\n",
       "      <th>tax_per_density</th>\n",
       "    </tr>\n",
       "  </thead>\n",
       "  <tbody>\n",
       "    <tr>\n",
       "      <th>8</th>\n",
       "      <td>Australia</td>\n",
       "      <td>Oceania</td>\n",
       "      <td>15.800000</td>\n",
       "    </tr>\n",
       "    <tr>\n",
       "      <th>108</th>\n",
       "      <td>Mauritania</td>\n",
       "      <td>Unknown</td>\n",
       "      <td>13.400000</td>\n",
       "    </tr>\n",
       "    <tr>\n",
       "      <th>114</th>\n",
       "      <td>Mongolia</td>\n",
       "      <td>Unknown</td>\n",
       "      <td>12.850000</td>\n",
       "    </tr>\n",
       "    <tr>\n",
       "      <th>76</th>\n",
       "      <td>Iceland</td>\n",
       "      <td>Unknown</td>\n",
       "      <td>10.633333</td>\n",
       "    </tr>\n",
       "    <tr>\n",
       "      <th>33</th>\n",
       "      <td>Central African Republic</td>\n",
       "      <td>Unknown</td>\n",
       "      <td>9.162500</td>\n",
       "    </tr>\n",
       "  </tbody>\n",
       "</table>\n",
       "</div>"
      ],
      "text/plain": [
       "                      country continent  tax_per_density\n",
       "8                   Australia   Oceania        15.800000\n",
       "108                Mauritania   Unknown        13.400000\n",
       "114                  Mongolia   Unknown        12.850000\n",
       "76                    Iceland   Unknown        10.633333\n",
       "33   Central African Republic   Unknown         9.162500"
      ]
     },
     "execution_count": 94,
     "metadata": {},
     "output_type": "execute_result"
    }
   ],
   "source": [
    "# veo quien tiene el valor mas alto:\n",
    "df[[\"country\", \"continent\", \"tax_per_density\"]].sort_values(\"tax_per_density\", ascending=False).head()\n",
    "\n",
    "# con .sort, lo ordena de forma que salen los 5 paises con la tasa mas alta\n"
   ]
  },
  {
   "cell_type": "markdown",
   "metadata": {},
   "source": [
    "6. ¿Cuál es el porcentaje de población urbana promedio por continente?"
   ]
  },
  {
   "cell_type": "code",
   "execution_count": 95,
   "metadata": {},
   "outputs": [
    {
     "data": {
      "text/plain": [
       "continent\n",
       "Africa           7.097833e+07\n",
       "Asia             4.765826e+08\n",
       "Europe           5.212520e+07\n",
       "North America    1.506458e+08\n",
       "Oceania          2.184476e+07\n",
       "South America    1.122906e+08\n",
       "Unknown          1.108512e+07\n",
       "Name: urban_population, dtype: float64"
      ]
     },
     "execution_count": 95,
     "metadata": {},
     "output_type": "execute_result"
    }
   ],
   "source": [
    "# la columna que necesito es \"urban_popular\"\n",
    "# agrupo por continentes, colo la columna que me interesa y hago la media.\n",
    "\n",
    "df.groupby(\"continent\")[\"urban_population\"].mean()"
   ]
  },
  {
   "cell_type": "markdown",
   "metadata": {},
   "source": [
    "7. ¿Cuál es la diferencia entre el PIB promedio y el gasto en salud de bolsillo promedio por idioma oficial? Para contestar esta pregunta dabes seguir los siguientes pasos:\n",
    "Agrupa el DataFrame por idioma oficial y calcula la media del Gasto de Bolsillo en salud (out_of_pocket_health_expenditure) y del GPD.\n",
    "\n",
    "Calcula la diferencia entre el PIB promedio y el gasto en salud de bolsillo promedio."
   ]
  },
  {
   "cell_type": "code",
   "execution_count": null,
   "metadata": {},
   "outputs": [
    {
     "data": {
      "text/html": [
       "<div>\n",
       "<style scoped>\n",
       "    .dataframe tbody tr th:only-of-type {\n",
       "        vertical-align: middle;\n",
       "    }\n",
       "\n",
       "    .dataframe tbody tr th {\n",
       "        vertical-align: top;\n",
       "    }\n",
       "\n",
       "    .dataframe thead th {\n",
       "        text-align: right;\n",
       "    }\n",
       "</style>\n",
       "<table border=\"1\" class=\"dataframe\">\n",
       "  <thead>\n",
       "    <tr style=\"text-align: right;\">\n",
       "      <th></th>\n",
       "      <th>gdp</th>\n",
       "      <th>out_of_pocket_health_expenditure</th>\n",
       "    </tr>\n",
       "  </thead>\n",
       "  <tbody>\n",
       "    <tr>\n",
       "      <th>104</th>\n",
       "      <td>5.729248e+09</td>\n",
       "      <td>16.4</td>\n",
       "    </tr>\n",
       "    <tr>\n",
       "      <th>79</th>\n",
       "      <td>4.453453e+11</td>\n",
       "      <td>39.7</td>\n",
       "    </tr>\n",
       "    <tr>\n",
       "      <th>47</th>\n",
       "      <td>3.318716e+09</td>\n",
       "      <td>20.4</td>\n",
       "    </tr>\n",
       "  </tbody>\n",
       "</table>\n",
       "</div>"
      ],
      "text/plain": [
       "              gdp  out_of_pocket_health_expenditure\n",
       "104  5.729248e+09                              16.4\n",
       "79   4.453453e+11                              39.7\n",
       "47   3.318716e+09                              20.4"
      ]
     },
     "execution_count": 97,
     "metadata": {},
     "output_type": "execute_result"
    }
   ],
   "source": [
    "# saber cual es la diferencia entre el PIB y el gasto en salud de bolsillo promedio agrupado por official_language\n",
    "# agrupo por idioma oficial y necesito las columnas \"gdp\"(son las siglas en ingles de PIB) y \"out_of_pocket_health_expenditure\"\n",
    "\n",
    "df[[\"gdp\", \"out_of_pocket_health_expenditure\"]].sample(3)"
   ]
  },
  {
   "cell_type": "code",
   "execution_count": 98,
   "metadata": {},
   "outputs": [
    {
     "data": {
      "text/plain": [
       "gdp                                 float64\n",
       "out_of_pocket_health_expenditure    float64\n",
       "dtype: object"
      ]
     },
     "execution_count": 98,
     "metadata": {},
     "output_type": "execute_result"
    }
   ],
   "source": [
    "df[[\"gdp\", \"out_of_pocket_health_expenditure\"]].dtypes"
   ]
  },
  {
   "cell_type": "code",
   "execution_count": null,
   "metadata": {},
   "outputs": [
    {
     "data": {
      "text/html": [
       "<div>\n",
       "<style scoped>\n",
       "    .dataframe tbody tr th:only-of-type {\n",
       "        vertical-align: middle;\n",
       "    }\n",
       "\n",
       "    .dataframe tbody tr th {\n",
       "        vertical-align: top;\n",
       "    }\n",
       "\n",
       "    .dataframe thead th {\n",
       "        text-align: right;\n",
       "    }\n",
       "</style>\n",
       "<table border=\"1\" class=\"dataframe\">\n",
       "  <thead>\n",
       "    <tr style=\"text-align: right;\">\n",
       "      <th></th>\n",
       "      <th>gdp</th>\n",
       "      <th>out_of_pocket_health_expenditure</th>\n",
       "    </tr>\n",
       "    <tr>\n",
       "      <th>official_language</th>\n",
       "      <th></th>\n",
       "      <th></th>\n",
       "    </tr>\n",
       "  </thead>\n",
       "  <tbody>\n",
       "    <tr>\n",
       "      <th>Afrikaans</th>\n",
       "      <td>3.514316e+11</td>\n",
       "      <td>7.7</td>\n",
       "    </tr>\n",
       "    <tr>\n",
       "      <th>Albanian</th>\n",
       "      <td>1.527808e+10</td>\n",
       "      <td>56.9</td>\n",
       "    </tr>\n",
       "    <tr>\n",
       "      <th>Amharic</th>\n",
       "      <td>9.610766e+10</td>\n",
       "      <td>37.8</td>\n",
       "    </tr>\n",
       "    <tr>\n",
       "      <th>Arabic</th>\n",
       "      <td>1.366153e+11</td>\n",
       "      <td>38.0</td>\n",
       "    </tr>\n",
       "    <tr>\n",
       "      <th>Armenian</th>\n",
       "      <td>1.367280e+10</td>\n",
       "      <td>81.6</td>\n",
       "    </tr>\n",
       "    <tr>\n",
       "      <th>...</th>\n",
       "      <td>...</td>\n",
       "      <td>...</td>\n",
       "    </tr>\n",
       "    <tr>\n",
       "      <th>Tuvaluan Language</th>\n",
       "      <td>4.727146e+07</td>\n",
       "      <td>0.7</td>\n",
       "    </tr>\n",
       "    <tr>\n",
       "      <th>Ukrainian</th>\n",
       "      <td>1.537811e+11</td>\n",
       "      <td>47.8</td>\n",
       "    </tr>\n",
       "    <tr>\n",
       "      <th>Urdu</th>\n",
       "      <td>3.044000e+11</td>\n",
       "      <td>66.5</td>\n",
       "    </tr>\n",
       "    <tr>\n",
       "      <th>Uzbek</th>\n",
       "      <td>5.792129e+10</td>\n",
       "      <td>42.7</td>\n",
       "    </tr>\n",
       "    <tr>\n",
       "      <th>Vietnamese</th>\n",
       "      <td>2.619212e+11</td>\n",
       "      <td>43.5</td>\n",
       "    </tr>\n",
       "  </tbody>\n",
       "</table>\n",
       "<p>76 rows × 2 columns</p>\n",
       "</div>"
      ],
      "text/plain": [
       "                            gdp  out_of_pocket_health_expenditure\n",
       "official_language                                                \n",
       "Afrikaans          3.514316e+11                               7.7\n",
       "Albanian           1.527808e+10                              56.9\n",
       "Amharic            9.610766e+10                              37.8\n",
       "Arabic             1.366153e+11                              38.0\n",
       "Armenian           1.367280e+10                              81.6\n",
       "...                         ...                               ...\n",
       "Tuvaluan Language  4.727146e+07                               0.7\n",
       "Ukrainian          1.537811e+11                              47.8\n",
       "Urdu               3.044000e+11                              66.5\n",
       "Uzbek              5.792129e+10                              42.7\n",
       "Vietnamese         2.619212e+11                              43.5\n",
       "\n",
       "[76 rows x 2 columns]"
      ]
     },
     "execution_count": 99,
     "metadata": {},
     "output_type": "execute_result"
    }
   ],
   "source": [
    "df.groupby(\"official_language\")[[\"gdp\", \"out_of_pocket_health_expenditure\"]].mean()\n",
    "\n",
    "# esto devuelve los valores medios del PIB y del gasto en salud por cada idioma."
   ]
  },
  {
   "cell_type": "code",
   "execution_count": null,
   "metadata": {},
   "outputs": [],
   "source": [
    "# calculo la diferencia entre PIB y gasto de bolsillo\n",
    "\n",
    "\n"
   ]
  },
  {
   "cell_type": "markdown",
   "metadata": {},
   "source": []
  }
 ],
 "metadata": {
  "kernelspec": {
   "display_name": "Python 3",
   "language": "python",
   "name": "python3"
  },
  "language_info": {
   "codemirror_mode": {
    "name": "ipython",
    "version": 3
   },
   "file_extension": ".py",
   "mimetype": "text/x-python",
   "name": "python",
   "nbconvert_exporter": "python",
   "pygments_lexer": "ipython3",
   "version": "3.9.6"
  }
 },
 "nbformat": 4,
 "nbformat_minor": 2
}
